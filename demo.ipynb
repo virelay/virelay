{
 "cells": [
  {
   "cell_type": "code",
   "execution_count": null,
   "metadata": {},
   "outputs": [],
   "source": [
    "from virelay import VirelayLazy"
   ]
  },
  {
   "cell_type": "code",
   "execution_count": null,
   "metadata": {},
   "outputs": [],
   "source": [
    "from torchvision.models import resnet18\n",
    "import torch\n",
    "from torchvision import transforms, datasets, utils\n",
    "import os\n",
    "\n",
    "model = resnet18()\n",
    "model.fc.out_features = 10 \n",
    "device = 'cuda:0' if torch.cuda.is_available() else 'cpu'\n",
    "labels = [{\"index\" : 0, \"word_net_id\": \"1\", \"name\": \"airplane\"}, #word_net_id does not matter but needs to be filled in\n",
    "          {\"index\": 1, \"word_net_id\": \"2\", \"name\":\"automobile\"},\n",
    "          {\"index\" : 2, \"word_net_id\": \"3\", \"name\": \"bird\"},\n",
    "          {\"index\" : 3, \"word_net_id\": \"4\", \"name\": \"cat\"},\n",
    "          {\"index\" : 4, \"word_net_id\": \"5\", \"name\": \"deer\"},\n",
    "          {\"index\" : 5, \"word_net_id\": \"6\", \"name\": \"dog\"},\n",
    "          {\"index\" : 6, \"word_net_id\": \"7\", \"name\": \"frog\"},\n",
    "          {\"index\" : 7, \"word_net_id\": \"8\", \"name\": \"horse\"},\n",
    "          {\"index\" : 8, \"word_net_id\": \"9\", \"name\": \"ship\"},\n",
    "          {\"index\" : 9, \"word_net_id\": \"10\", \"name\": \"truck\"}\n",
    "          ]\n",
    "\n",
    "# Define the transformations\n",
    "transform = transforms.Compose(\n",
    "            [\n",
    "                transforms.Resize((32,32)),\n",
    "                transforms.ToTensor(),\n",
    "                transforms.Normalize([0.4914, 0.4822, 0.4465], [0.2023, 0.1994, 0.2010]),\n",
    "            ]\n",
    "        )\n"
   ]
  },
  {
   "cell_type": "code",
   "execution_count": null,
   "metadata": {},
   "outputs": [],
   "source": [
    "# Define the root directory to save the dataset\n",
    "root_dir = \"demo/cifar10\"\n",
    "\n",
    "# Download the CIFAR10 dataset\n",
    "testset = datasets.CIFAR10(root=root_dir, train=False, transform=transform, download=True)\n",
    "\n",
    "# Create a folder for each class\n",
    "classes = testset.classes\n",
    "for i, class_name in enumerate(classes):\n",
    "    class_dir = os.path.join(root_dir, str(i))\n",
    "    os.makedirs(class_dir, exist_ok=True)\n",
    "\n",
    "#Batch to images\n",
    "for idx, (image, label) in enumerate(testset):\n",
    "    class_name = classes[label]\n",
    "    image_path = os.path.join(root_dir, str(label), f\"test_{idx}.png\")\n",
    "    utils.save_image(image, image_path)\n",
    "\n",
    "import shutil\n",
    "shutil.rmtree(os.path.join(root_dir, \"cifar-10-batches-py\"))\n"
   ]
  },
  {
   "cell_type": "code",
   "execution_count": null,
   "metadata": {},
   "outputs": [],
   "source": [
    "#model, dataset_path, model_weights_path, device, labels/num_classes, project_folder\n",
    "vir = VirelayLazy(model, \"demo/cifar10\", transform, model_weights_path = None, labels=labels, project_folder=\"demo/\")"
   ]
  },
  {
   "cell_type": "code",
   "execution_count": null,
   "metadata": {},
   "outputs": [],
   "source": [
    "from zennit.composites import EpsilonGammaBox, EpsilonAlpha2Beta1, EpsilonPlus\n",
    "\n",
    "composite = EpsilonGammaBox(-3.0, 3.0)\n",
    "vir.compute_attributions(32, 1000, composite, attribution_file_name=\"attribution.h5\", attributor_name=\"gradient\")"
   ]
  },
  {
   "cell_type": "code",
   "execution_count": null,
   "metadata": {},
   "outputs": [],
   "source": [
    "vir.set_attribution_path(\"demo/attribution.h5\") # If you have computed attributions already\n",
    "#Each project can have multiple meta analyses\n",
    "vir.add_meta_analysis(variant=\"spectral\", analysis_file_name=\"spectral.h5\", number_of_eigenvalues=32, number_of_clusters_list=list(range(2,31)), number_of_neighbors=32)\n",
    "#vir.add_meta_analysis(variant=\"fullspectral\", analysis_file_name=\"fullspectral.h5\", number_of_eigenvalues=32)"
   ]
  },
  {
   "cell_type": "code",
   "execution_count": null,
   "metadata": {},
   "outputs": [],
   "source": [
    "\n",
    "# The Virelay app is based of off a project file\n",
    "vir.make_project_file(\"^demo/cifar10\\/(\\d+)\\/.+$\", dataset_down_sampling_method=\"resize\")"
   ]
  },
  {
   "cell_type": "code",
   "execution_count": null,
   "metadata": {},
   "outputs": [],
   "source": [
    "#Start the web app\n",
    "vir.start_virelay(project_file=\"demo/project.yaml\", host=\"localhost\", port=8080, debug_mode=False)"
   ]
  },
  {
   "cell_type": "code",
   "execution_count": null,
   "metadata": {},
   "outputs": [],
   "source": []
  },
  {
   "cell_type": "code",
   "execution_count": null,
   "metadata": {},
   "outputs": [],
   "source": []
  }
 ],
 "metadata": {
  "kernelspec": {
   "display_name": "base",
   "language": "python",
   "name": "python3"
  },
  "language_info": {
   "codemirror_mode": {
    "name": "ipython",
    "version": 3
   },
   "file_extension": ".py",
   "mimetype": "text/x-python",
   "name": "python",
   "nbconvert_exporter": "python",
   "pygments_lexer": "ipython3",
   "version": "3.11.3"
  },
  "orig_nbformat": 4,
  "vscode": {
   "interpreter": {
    "hash": "feed1aebf7db3000e7829e2efd8bdfcf1f0b67432af635dffff734f8c7a47c24"
   }
  }
 },
 "nbformat": 4,
 "nbformat_minor": 2
}
